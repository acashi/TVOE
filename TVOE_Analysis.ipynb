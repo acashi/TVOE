{
 "cells": [
  {
   "cell_type": "code",
   "execution_count": 2,
   "id": "27792ada",
   "metadata": {},
   "outputs": [],
   "source": [
    "import pandas as pd\n",
    "import numpy as np\n",
    "import seaborn as sns\n",
    "import datetime as dt\n",
    "from babel.numbers import format_currency\n",
    "import matplotlib.pyplot as plt"
   ]
  },
  {
   "cell_type": "markdown",
   "id": "27066c08",
   "metadata": {},
   "source": [
    "- Проанализируйте эффект от введения акционного предложения: оцените получаемый прирост, а также разбейте его на инкремент от механики и продвижения. Исследуйте влияние акции на модели 4580Х.\n",
    "-  Рассчитайте доходность проекта для ООО \"ТВОЕ\" при условии, что долевое участие сторон в затратах на продвижение и выплату дотации 50%/50%. Оцените целесообразность проведения данной инициативы.\n",
    "- Найдите зависимость между параметрами акционного предложения и получаемым приростом для каждой акционной модели.\n",
    "- Проведите экспертный анализ одного из неохваченных на ваш взгляд вопросов в предложенном комплексе задач."
   ]
  },
  {
   "cell_type": "code",
   "execution_count": 3,
   "id": "ff646108",
   "metadata": {},
   "outputs": [],
   "source": [
    "d1 = pd.read_excel('Для анализа.xlsx')"
   ]
  },
  {
   "cell_type": "code",
   "execution_count": 588,
   "id": "59ab2aaf",
   "metadata": {},
   "outputs": [
    {
     "data": {
      "text/html": [
       "<div>\n",
       "<style scoped>\n",
       "    .dataframe tbody tr th:only-of-type {\n",
       "        vertical-align: middle;\n",
       "    }\n",
       "\n",
       "    .dataframe tbody tr th {\n",
       "        vertical-align: top;\n",
       "    }\n",
       "\n",
       "    .dataframe thead th {\n",
       "        text-align: right;\n",
       "    }\n",
       "</style>\n",
       "<table border=\"1\" class=\"dataframe\">\n",
       "  <thead>\n",
       "    <tr style=\"text-align: right;\">\n",
       "      <th></th>\n",
       "      <th>Акция</th>\n",
       "      <th>Дата</th>\n",
       "      <th>Модель</th>\n",
       "      <th>Количество</th>\n",
       "      <th>Оборот</th>\n",
       "      <th>Себестоимость</th>\n",
       "    </tr>\n",
       "  </thead>\n",
       "  <tbody>\n",
       "    <tr>\n",
       "      <th>0</th>\n",
       "      <td>Без акции</td>\n",
       "      <td>2017-01-01</td>\n",
       "      <td>59234</td>\n",
       "      <td>46</td>\n",
       "      <td>50554</td>\n",
       "      <td>37915.50</td>\n",
       "    </tr>\n",
       "    <tr>\n",
       "      <th>1</th>\n",
       "      <td>Без акции</td>\n",
       "      <td>2017-01-01</td>\n",
       "      <td>45801</td>\n",
       "      <td>65</td>\n",
       "      <td>38935</td>\n",
       "      <td>27254.50</td>\n",
       "    </tr>\n",
       "    <tr>\n",
       "      <th>2</th>\n",
       "      <td>Без акции</td>\n",
       "      <td>2017-01-01</td>\n",
       "      <td>45802</td>\n",
       "      <td>37</td>\n",
       "      <td>77663</td>\n",
       "      <td>62130.40</td>\n",
       "    </tr>\n",
       "    <tr>\n",
       "      <th>3</th>\n",
       "      <td>Без акции</td>\n",
       "      <td>2017-01-01</td>\n",
       "      <td>45803</td>\n",
       "      <td>19</td>\n",
       "      <td>94981</td>\n",
       "      <td>75984.80</td>\n",
       "    </tr>\n",
       "    <tr>\n",
       "      <th>4</th>\n",
       "      <td>Без акции</td>\n",
       "      <td>2017-01-02</td>\n",
       "      <td>59234</td>\n",
       "      <td>181</td>\n",
       "      <td>198919</td>\n",
       "      <td>149189.25</td>\n",
       "    </tr>\n",
       "  </tbody>\n",
       "</table>\n",
       "</div>"
      ],
      "text/plain": [
       "       Акция       Дата  Модель  Количество  Оборот  Себестоимость\n",
       "0  Без акции 2017-01-01   59234          46   50554       37915.50\n",
       "1  Без акции 2017-01-01   45801          65   38935       27254.50\n",
       "2  Без акции 2017-01-01   45802          37   77663       62130.40\n",
       "3  Без акции 2017-01-01   45803          19   94981       75984.80\n",
       "4  Без акции 2017-01-02   59234         181  198919      149189.25"
      ]
     },
     "execution_count": 588,
     "metadata": {},
     "output_type": "execute_result"
    }
   ],
   "source": [
    "df.head()"
   ]
  },
  {
   "cell_type": "code",
   "execution_count": 589,
   "id": "dc9b7e78",
   "metadata": {},
   "outputs": [],
   "source": [
    "df.rename(columns={\"Акция\": 'action', \"Дата\":'date','Модель':'model', \t\"Количество\":'cnt',\t'Оборот':'price',\t\"Себестоимость\":'selfprice'}, inplace = True)"
   ]
  },
  {
   "cell_type": "code",
   "execution_count": 590,
   "id": "aab2bdc7",
   "metadata": {},
   "outputs": [
    {
     "data": {
      "text/html": [
       "<div>\n",
       "<style scoped>\n",
       "    .dataframe tbody tr th:only-of-type {\n",
       "        vertical-align: middle;\n",
       "    }\n",
       "\n",
       "    .dataframe tbody tr th {\n",
       "        vertical-align: top;\n",
       "    }\n",
       "\n",
       "    .dataframe thead th {\n",
       "        text-align: right;\n",
       "    }\n",
       "</style>\n",
       "<table border=\"1\" class=\"dataframe\">\n",
       "  <thead>\n",
       "    <tr style=\"text-align: right;\">\n",
       "      <th></th>\n",
       "      <th>action</th>\n",
       "      <th>date</th>\n",
       "      <th>model</th>\n",
       "      <th>cnt</th>\n",
       "      <th>price</th>\n",
       "      <th>selfprice</th>\n",
       "    </tr>\n",
       "  </thead>\n",
       "  <tbody>\n",
       "    <tr>\n",
       "      <th>0</th>\n",
       "      <td>Без акции</td>\n",
       "      <td>2017-01-01</td>\n",
       "      <td>59234</td>\n",
       "      <td>46</td>\n",
       "      <td>50554</td>\n",
       "      <td>37915.50</td>\n",
       "    </tr>\n",
       "    <tr>\n",
       "      <th>1</th>\n",
       "      <td>Без акции</td>\n",
       "      <td>2017-01-01</td>\n",
       "      <td>45801</td>\n",
       "      <td>65</td>\n",
       "      <td>38935</td>\n",
       "      <td>27254.50</td>\n",
       "    </tr>\n",
       "    <tr>\n",
       "      <th>2</th>\n",
       "      <td>Без акции</td>\n",
       "      <td>2017-01-01</td>\n",
       "      <td>45802</td>\n",
       "      <td>37</td>\n",
       "      <td>77663</td>\n",
       "      <td>62130.40</td>\n",
       "    </tr>\n",
       "    <tr>\n",
       "      <th>3</th>\n",
       "      <td>Без акции</td>\n",
       "      <td>2017-01-01</td>\n",
       "      <td>45803</td>\n",
       "      <td>19</td>\n",
       "      <td>94981</td>\n",
       "      <td>75984.80</td>\n",
       "    </tr>\n",
       "    <tr>\n",
       "      <th>4</th>\n",
       "      <td>Без акции</td>\n",
       "      <td>2017-01-02</td>\n",
       "      <td>59234</td>\n",
       "      <td>181</td>\n",
       "      <td>198919</td>\n",
       "      <td>149189.25</td>\n",
       "    </tr>\n",
       "  </tbody>\n",
       "</table>\n",
       "</div>"
      ],
      "text/plain": [
       "      action       date  model  cnt   price  selfprice\n",
       "0  Без акции 2017-01-01  59234   46   50554   37915.50\n",
       "1  Без акции 2017-01-01  45801   65   38935   27254.50\n",
       "2  Без акции 2017-01-01  45802   37   77663   62130.40\n",
       "3  Без акции 2017-01-01  45803   19   94981   75984.80\n",
       "4  Без акции 2017-01-02  59234  181  198919  149189.25"
      ]
     },
     "execution_count": 590,
     "metadata": {},
     "output_type": "execute_result"
    }
   ],
   "source": [
    "df.head()"
   ]
  },
  {
   "cell_type": "code",
   "execution_count": 591,
   "id": "0c7e2f01",
   "metadata": {
    "scrolled": false
   },
   "outputs": [
    {
     "data": {
      "text/html": [
       "<div>\n",
       "<style scoped>\n",
       "    .dataframe tbody tr th:only-of-type {\n",
       "        vertical-align: middle;\n",
       "    }\n",
       "\n",
       "    .dataframe tbody tr th {\n",
       "        vertical-align: top;\n",
       "    }\n",
       "\n",
       "    .dataframe thead th {\n",
       "        text-align: right;\n",
       "    }\n",
       "</style>\n",
       "<table border=\"1\" class=\"dataframe\">\n",
       "  <thead>\n",
       "    <tr style=\"text-align: right;\">\n",
       "      <th></th>\n",
       "      <th>action</th>\n",
       "      <th>date</th>\n",
       "      <th>model</th>\n",
       "      <th>cnt</th>\n",
       "      <th>price</th>\n",
       "      <th>selfprice</th>\n",
       "    </tr>\n",
       "  </thead>\n",
       "  <tbody>\n",
       "    <tr>\n",
       "      <th>3191</th>\n",
       "      <td>Вернем баллы на счет</td>\n",
       "      <td>2018-09-29</td>\n",
       "      <td>45802</td>\n",
       "      <td>132</td>\n",
       "      <td>277068</td>\n",
       "      <td>221654.4</td>\n",
       "    </tr>\n",
       "    <tr>\n",
       "      <th>3192</th>\n",
       "      <td>Вернем баллы на счет</td>\n",
       "      <td>2018-09-29</td>\n",
       "      <td>45803</td>\n",
       "      <td>61</td>\n",
       "      <td>304939</td>\n",
       "      <td>243951.2</td>\n",
       "    </tr>\n",
       "    <tr>\n",
       "      <th>3193</th>\n",
       "      <td>Вернем баллы на счет</td>\n",
       "      <td>2018-09-30</td>\n",
       "      <td>45801</td>\n",
       "      <td>289</td>\n",
       "      <td>173111</td>\n",
       "      <td>121177.7</td>\n",
       "    </tr>\n",
       "    <tr>\n",
       "      <th>3194</th>\n",
       "      <td>Вернем баллы на счет</td>\n",
       "      <td>2018-09-30</td>\n",
       "      <td>45802</td>\n",
       "      <td>159</td>\n",
       "      <td>333741</td>\n",
       "      <td>266992.8</td>\n",
       "    </tr>\n",
       "    <tr>\n",
       "      <th>3195</th>\n",
       "      <td>Вернем баллы на счет</td>\n",
       "      <td>2018-09-30</td>\n",
       "      <td>45803</td>\n",
       "      <td>73</td>\n",
       "      <td>364927</td>\n",
       "      <td>291941.6</td>\n",
       "    </tr>\n",
       "  </tbody>\n",
       "</table>\n",
       "</div>"
      ],
      "text/plain": [
       "                    action       date  model  cnt   price  selfprice\n",
       "3191  Вернем баллы на счет 2018-09-29  45802  132  277068   221654.4\n",
       "3192  Вернем баллы на счет 2018-09-29  45803   61  304939   243951.2\n",
       "3193  Вернем баллы на счет 2018-09-30  45801  289  173111   121177.7\n",
       "3194  Вернем баллы на счет 2018-09-30  45802  159  333741   266992.8\n",
       "3195  Вернем баллы на счет 2018-09-30  45803   73  364927   291941.6"
      ]
     },
     "execution_count": 591,
     "metadata": {},
     "output_type": "execute_result"
    }
   ],
   "source": [
    "df.tail()"
   ]
  },
  {
   "cell_type": "code",
   "execution_count": 592,
   "id": "03134ef9",
   "metadata": {},
   "outputs": [],
   "source": [
    "df.model = df.model.apply(lambda x: str(x))\n"
   ]
  },
  {
   "cell_type": "code",
   "execution_count": 322,
   "id": "0b140ba3",
   "metadata": {},
   "outputs": [],
   "source": [
    "#df.price = df.price.apply(lambda x: format_currency(x, currency=\"₽\", locale=\"ru_RU\"))"
   ]
  },
  {
   "cell_type": "code",
   "execution_count": 391,
   "id": "e3112a18",
   "metadata": {},
   "outputs": [
    {
     "name": "stdout",
     "output_type": "stream",
     "text": [
      "<class 'pandas.core.frame.DataFrame'>\n",
      "RangeIndex: 3196 entries, 0 to 3195\n",
      "Data columns (total 7 columns):\n",
      " #   Column     Non-Null Count  Dtype         \n",
      "---  ------     --------------  -----         \n",
      " 0   action     3196 non-null   object        \n",
      " 1   date       3196 non-null   datetime64[ns]\n",
      " 2   model      3196 non-null   object        \n",
      " 3   cnt        3196 non-null   int64         \n",
      " 4   price      3196 non-null   int64         \n",
      " 5   selfprice  3196 non-null   float64       \n",
      " 6   quarter    3196 non-null   int64         \n",
      "dtypes: datetime64[ns](1), float64(1), int64(3), object(2)\n",
      "memory usage: 174.9+ KB\n"
     ]
    }
   ],
   "source": [
    "df.info()"
   ]
  },
  {
   "cell_type": "markdown",
   "id": "5de05606",
   "metadata": {},
   "source": [
    "С первичной обработкой все, начинаем анализ"
   ]
  },
  {
   "cell_type": "markdown",
   "id": "2551c63c",
   "metadata": {},
   "source": [
    "### Решил разбить по кварталам, чтобы легче было работать"
   ]
  },
  {
   "cell_type": "code",
   "execution_count": 593,
   "id": "94dbf502",
   "metadata": {},
   "outputs": [],
   "source": [
    "df['quarter'] = df['date'].dt.quarter "
   ]
  },
  {
   "cell_type": "code",
   "execution_count": 594,
   "id": "38a0162b",
   "metadata": {},
   "outputs": [],
   "source": [
    "df.quarter = df.quarter.apply(lambda x: str(x))"
   ]
  },
  {
   "cell_type": "code",
   "execution_count": 595,
   "id": "7d184d29",
   "metadata": {
    "scrolled": true
   },
   "outputs": [
    {
     "data": {
      "text/html": [
       "<div>\n",
       "<style scoped>\n",
       "    .dataframe tbody tr th:only-of-type {\n",
       "        vertical-align: middle;\n",
       "    }\n",
       "\n",
       "    .dataframe tbody tr th {\n",
       "        vertical-align: top;\n",
       "    }\n",
       "\n",
       "    .dataframe thead th {\n",
       "        text-align: right;\n",
       "    }\n",
       "</style>\n",
       "<table border=\"1\" class=\"dataframe\">\n",
       "  <thead>\n",
       "    <tr style=\"text-align: right;\">\n",
       "      <th></th>\n",
       "      <th>action</th>\n",
       "      <th>date</th>\n",
       "      <th>model</th>\n",
       "      <th>cnt</th>\n",
       "      <th>price</th>\n",
       "      <th>selfprice</th>\n",
       "      <th>quarter</th>\n",
       "    </tr>\n",
       "  </thead>\n",
       "  <tbody>\n",
       "    <tr>\n",
       "      <th>0</th>\n",
       "      <td>Без акции</td>\n",
       "      <td>2017-01-01</td>\n",
       "      <td>59234</td>\n",
       "      <td>46</td>\n",
       "      <td>50554</td>\n",
       "      <td>37915.50</td>\n",
       "      <td>1</td>\n",
       "    </tr>\n",
       "    <tr>\n",
       "      <th>1</th>\n",
       "      <td>Без акции</td>\n",
       "      <td>2017-01-01</td>\n",
       "      <td>45801</td>\n",
       "      <td>65</td>\n",
       "      <td>38935</td>\n",
       "      <td>27254.50</td>\n",
       "      <td>1</td>\n",
       "    </tr>\n",
       "    <tr>\n",
       "      <th>2</th>\n",
       "      <td>Без акции</td>\n",
       "      <td>2017-01-01</td>\n",
       "      <td>45802</td>\n",
       "      <td>37</td>\n",
       "      <td>77663</td>\n",
       "      <td>62130.40</td>\n",
       "      <td>1</td>\n",
       "    </tr>\n",
       "    <tr>\n",
       "      <th>3</th>\n",
       "      <td>Без акции</td>\n",
       "      <td>2017-01-01</td>\n",
       "      <td>45803</td>\n",
       "      <td>19</td>\n",
       "      <td>94981</td>\n",
       "      <td>75984.80</td>\n",
       "      <td>1</td>\n",
       "    </tr>\n",
       "    <tr>\n",
       "      <th>4</th>\n",
       "      <td>Без акции</td>\n",
       "      <td>2017-01-02</td>\n",
       "      <td>59234</td>\n",
       "      <td>181</td>\n",
       "      <td>198919</td>\n",
       "      <td>149189.25</td>\n",
       "      <td>1</td>\n",
       "    </tr>\n",
       "  </tbody>\n",
       "</table>\n",
       "</div>"
      ],
      "text/plain": [
       "      action       date  model  cnt   price  selfprice quarter\n",
       "0  Без акции 2017-01-01  59234   46   50554   37915.50       1\n",
       "1  Без акции 2017-01-01  45801   65   38935   27254.50       1\n",
       "2  Без акции 2017-01-01  45802   37   77663   62130.40       1\n",
       "3  Без акции 2017-01-01  45803   19   94981   75984.80       1\n",
       "4  Без акции 2017-01-02  59234  181  198919  149189.25       1"
      ]
     },
     "execution_count": 595,
     "metadata": {},
     "output_type": "execute_result"
    }
   ],
   "source": [
    "df.head()"
   ]
  },
  {
   "cell_type": "markdown",
   "id": "99db13f5",
   "metadata": {},
   "source": [
    "Ищу прирост второго квартала в 2017, чтобы сравнить с целевым"
   ]
  },
  {
   "cell_type": "markdown",
   "id": "cbcc71c0",
   "metadata": {},
   "source": [
    "Видим естественный прирост в виде 41%"
   ]
  },
  {
   "cell_type": "markdown",
   "id": "7b60d6eb",
   "metadata": {},
   "source": [
    "## Начинаем анализ"
   ]
  },
  {
   "cell_type": "code",
   "execution_count": 340,
   "id": "07f1b02f",
   "metadata": {},
   "outputs": [],
   "source": [
    "revenue2018 = df.query('date > \"2017-12-31\"').groupby(['quarter']).agg({'price':'sum'})"
   ]
  },
  {
   "cell_type": "code",
   "execution_count": 610,
   "id": "851a61de",
   "metadata": {},
   "outputs": [],
   "source": [
    "revenue2017 = df.query('date < \"2018\"').groupby(['quarter']).agg({'price':'sum'})"
   ]
  },
  {
   "cell_type": "code",
   "execution_count": 611,
   "id": "087bf4cc",
   "metadata": {},
   "outputs": [
    {
     "data": {
      "text/plain": [
       "<AxesSubplot:xlabel='quarter', ylabel='price'>"
      ]
     },
     "execution_count": 611,
     "metadata": {},
     "output_type": "execute_result"
    },
    {
     "data": {
      "image/png": "[encoded data removed]",
      "text/plain": [
       "<Figure size 864x720 with 1 Axes>"
      ]
     },
     "metadata": {},
     "output_type": "display_data"
    }
   ],
   "source": [
    "sns.lineplot(x = revenue2017.index, y = revenue2017.price)\n",
    "sns.lineplot(x = revenue2018.index, y = revenue2018.price)"
   ]
  },
  {
   "cell_type": "markdown",
   "id": "c0c37bda",
   "metadata": {},
   "source": [
    "Видим скачкообразный прирост в 3ем квартале"
   ]
  },
  {
   "cell_type": "markdown",
   "id": "ad423824",
   "metadata": {},
   "source": [
    "Прирост относительно прошлого года:"
   ]
  },
  {
   "cell_type": "code",
   "execution_count": 536,
   "id": "41b191ff",
   "metadata": {},
   "outputs": [
    {
     "data": {
      "text/html": [
       "<div>\n",
       "<style scoped>\n",
       "    .dataframe tbody tr th:only-of-type {\n",
       "        vertical-align: middle;\n",
       "    }\n",
       "\n",
       "    .dataframe tbody tr th {\n",
       "        vertical-align: top;\n",
       "    }\n",
       "\n",
       "    .dataframe thead th {\n",
       "        text-align: right;\n",
       "    }\n",
       "</style>\n",
       "<table border=\"1\" class=\"dataframe\">\n",
       "  <thead>\n",
       "    <tr style=\"text-align: right;\">\n",
       "      <th></th>\n",
       "      <th>price</th>\n",
       "    </tr>\n",
       "    <tr>\n",
       "      <th>quarter</th>\n",
       "      <th></th>\n",
       "    </tr>\n",
       "  </thead>\n",
       "  <tbody>\n",
       "    <tr>\n",
       "      <th>1</th>\n",
       "      <td>1.066302</td>\n",
       "    </tr>\n",
       "    <tr>\n",
       "      <th>2</th>\n",
       "      <td>1.070561</td>\n",
       "    </tr>\n",
       "    <tr>\n",
       "      <th>3</th>\n",
       "      <td>1.617284</td>\n",
       "    </tr>\n",
       "    <tr>\n",
       "      <th>4</th>\n",
       "      <td>1.103111</td>\n",
       "    </tr>\n",
       "  </tbody>\n",
       "</table>\n",
       "</div>"
      ],
      "text/plain": [
       "            price\n",
       "quarter          \n",
       "1        1.066302\n",
       "2        1.070561\n",
       "3        1.617284\n",
       "4        1.103111"
      ]
     },
     "execution_count": 536,
     "metadata": {},
     "output_type": "execute_result"
    }
   ],
   "source": [
    "df.query('date > \"2018\"').groupby('quarter').agg({'price':'sum'})/df.query('date < \"2018\"').groupby('quarter').agg({'price':'sum'})"
   ]
  },
  {
   "cell_type": "markdown",
   "id": "b8f39660",
   "metadata": {},
   "source": [
    "Видим, что прирост в 3ем квартале 2018 года был 61% относительно прошлого года. "
   ]
  },
  {
   "cell_type": "markdown",
   "id": "a3080752",
   "metadata": {},
   "source": [
    "А в целом колеблется в районе 6-10%"
   ]
  },
  {
   "cell_type": "markdown",
   "id": "bf43dd04",
   "metadata": {},
   "source": [
    "Посмотрю чуть детальнее на модели"
   ]
  },
  {
   "cell_type": "markdown",
   "id": "fcab210a",
   "metadata": {},
   "source": [
    "Продажи искомых моделей во 2ом квартале 2017"
   ]
  },
  {
   "cell_type": "code",
   "execution_count": 407,
   "id": "8a8936bd",
   "metadata": {},
   "outputs": [
    {
     "data": {
      "text/html": [
       "<div>\n",
       "<style scoped>\n",
       "    .dataframe tbody tr th:only-of-type {\n",
       "        vertical-align: middle;\n",
       "    }\n",
       "\n",
       "    .dataframe tbody tr th {\n",
       "        vertical-align: top;\n",
       "    }\n",
       "\n",
       "    .dataframe thead th {\n",
       "        text-align: right;\n",
       "    }\n",
       "</style>\n",
       "<table border=\"1\" class=\"dataframe\">\n",
       "  <thead>\n",
       "    <tr style=\"text-align: right;\">\n",
       "      <th></th>\n",
       "      <th>model</th>\n",
       "      <th>cnt</th>\n",
       "    </tr>\n",
       "  </thead>\n",
       "  <tbody>\n",
       "    <tr>\n",
       "      <th>0</th>\n",
       "      <td>45801</td>\n",
       "      <td>20238</td>\n",
       "    </tr>\n",
       "    <tr>\n",
       "      <th>1</th>\n",
       "      <td>45802</td>\n",
       "      <td>11559</td>\n",
       "    </tr>\n",
       "    <tr>\n",
       "      <th>2</th>\n",
       "      <td>45803</td>\n",
       "      <td>5786</td>\n",
       "    </tr>\n",
       "  </tbody>\n",
       "</table>\n",
       "</div>"
      ],
      "text/plain": [
       "   model    cnt\n",
       "0  45801  20238\n",
       "1  45802  11559\n",
       "2  45803   5786"
      ]
     },
     "execution_count": 407,
     "metadata": {},
     "output_type": "execute_result"
    }
   ],
   "source": [
    "df.query(f'date > \"2018\" and quarter == 2')\\\n",
    "    .groupby('model', as_index=False).agg({'cnt':'sum'})[:-1]"
   ]
  },
  {
   "cell_type": "markdown",
   "id": "ab181065",
   "metadata": {},
   "source": [
    "Продажи искомых моделей во 2ом квартале 2018"
   ]
  },
  {
   "cell_type": "code",
   "execution_count": 408,
   "id": "1d9b5be9",
   "metadata": {},
   "outputs": [
    {
     "data": {
      "text/html": [
       "<div>\n",
       "<style scoped>\n",
       "    .dataframe tbody tr th:only-of-type {\n",
       "        vertical-align: middle;\n",
       "    }\n",
       "\n",
       "    .dataframe tbody tr th {\n",
       "        vertical-align: top;\n",
       "    }\n",
       "\n",
       "    .dataframe thead th {\n",
       "        text-align: right;\n",
       "    }\n",
       "</style>\n",
       "<table border=\"1\" class=\"dataframe\">\n",
       "  <thead>\n",
       "    <tr style=\"text-align: right;\">\n",
       "      <th></th>\n",
       "      <th>model</th>\n",
       "      <th>cnt</th>\n",
       "    </tr>\n",
       "  </thead>\n",
       "  <tbody>\n",
       "    <tr>\n",
       "      <th>0</th>\n",
       "      <td>45801</td>\n",
       "      <td>18908</td>\n",
       "    </tr>\n",
       "    <tr>\n",
       "      <th>1</th>\n",
       "      <td>45802</td>\n",
       "      <td>10806</td>\n",
       "    </tr>\n",
       "    <tr>\n",
       "      <th>2</th>\n",
       "      <td>45803</td>\n",
       "      <td>5399</td>\n",
       "    </tr>\n",
       "  </tbody>\n",
       "</table>\n",
       "</div>"
      ],
      "text/plain": [
       "   model    cnt\n",
       "0  45801  18908\n",
       "1  45802  10806\n",
       "2  45803   5399"
      ]
     },
     "execution_count": 408,
     "metadata": {},
     "output_type": "execute_result"
    }
   ],
   "source": [
    "df.query(f'date < \"2018\" and quarter == 2')\\\n",
    "    .groupby('model', as_index=False).agg({'cnt':'sum'})[:-1]"
   ]
  },
  {
   "cell_type": "code",
   "execution_count": 415,
   "id": "a166dda6",
   "metadata": {},
   "outputs": [
    {
     "data": {
      "text/plain": [
       "<AxesSubplot:xlabel='model', ylabel='cnt'>"
      ]
     },
     "execution_count": 415,
     "metadata": {},
     "output_type": "execute_result"
    },
    {
     "data": {
      "image/png": "[encoded data removed]",
      "text/plain": [
       "<Figure size 432x288 with 1 Axes>"
      ]
     },
     "metadata": {
      "needs_background": "light"
     },
     "output_type": "display_data"
    }
   ],
   "source": [
    "sns.lineplot(x = df.query(f'date > \"2018\" and quarter == 2')\\\n",
    "    .groupby('model', as_index=False).agg({'cnt':'sum'})[:-1].model, y = df.query(f'date > \"2018\" and quarter == 2')\\\n",
    "    .groupby('model', as_index=False).agg({'cnt':'sum'})[:-1].cnt)\n",
    "sns.lineplot(x = df.query(f'date < \"2018\" and quarter == 2')\\\n",
    "    .groupby('model', as_index=False).agg({'cnt':'sum'})[:-1].model, y = df.query(f'date < \"2018\" and quarter == 2')\\\n",
    "    .groupby('model', as_index=False).agg({'cnt':'sum'})[:-1].cnt)"
   ]
  },
  {
   "cell_type": "markdown",
   "id": "c482c3c3",
   "metadata": {},
   "source": [
    "#### Видим, что во втором квартале 2017 и 2018 года разница в объемах продаж целевой группы не существена"
   ]
  },
  {
   "cell_type": "markdown",
   "id": "1590ae76",
   "metadata": {},
   "source": [
    "Продажи искомых моделей во 3ем квартале 2018"
   ]
  },
  {
   "cell_type": "code",
   "execution_count": 409,
   "id": "89a10514",
   "metadata": {},
   "outputs": [
    {
     "data": {
      "text/html": [
       "<div>\n",
       "<style scoped>\n",
       "    .dataframe tbody tr th:only-of-type {\n",
       "        vertical-align: middle;\n",
       "    }\n",
       "\n",
       "    .dataframe tbody tr th {\n",
       "        vertical-align: top;\n",
       "    }\n",
       "\n",
       "    .dataframe thead th {\n",
       "        text-align: right;\n",
       "    }\n",
       "</style>\n",
       "<table border=\"1\" class=\"dataframe\">\n",
       "  <thead>\n",
       "    <tr style=\"text-align: right;\">\n",
       "      <th></th>\n",
       "      <th>model</th>\n",
       "      <th>cnt</th>\n",
       "    </tr>\n",
       "  </thead>\n",
       "  <tbody>\n",
       "    <tr>\n",
       "      <th>0</th>\n",
       "      <td>45801</td>\n",
       "      <td>50740</td>\n",
       "    </tr>\n",
       "    <tr>\n",
       "      <th>1</th>\n",
       "      <td>45802</td>\n",
       "      <td>27896</td>\n",
       "    </tr>\n",
       "    <tr>\n",
       "      <th>2</th>\n",
       "      <td>45803</td>\n",
       "      <td>12826</td>\n",
       "    </tr>\n",
       "  </tbody>\n",
       "</table>\n",
       "</div>"
      ],
      "text/plain": [
       "   model    cnt\n",
       "0  45801  50740\n",
       "1  45802  27896\n",
       "2  45803  12826"
      ]
     },
     "execution_count": 409,
     "metadata": {},
     "output_type": "execute_result"
    }
   ],
   "source": [
    "df.query(f'date > \"2018\" and quarter == 3')\\\n",
    "    .groupby('model', as_index=False).agg({'cnt':'sum'})[:-1]"
   ]
  },
  {
   "cell_type": "markdown",
   "id": "e203cc61",
   "metadata": {},
   "source": [
    "Продажи искомых моделей во 3ем квартале 2017"
   ]
  },
  {
   "cell_type": "code",
   "execution_count": 410,
   "id": "25c69495",
   "metadata": {},
   "outputs": [
    {
     "data": {
      "text/html": [
       "<div>\n",
       "<style scoped>\n",
       "    .dataframe tbody tr th:only-of-type {\n",
       "        vertical-align: middle;\n",
       "    }\n",
       "\n",
       "    .dataframe tbody tr th {\n",
       "        vertical-align: top;\n",
       "    }\n",
       "\n",
       "    .dataframe thead th {\n",
       "        text-align: right;\n",
       "    }\n",
       "</style>\n",
       "<table border=\"1\" class=\"dataframe\">\n",
       "  <thead>\n",
       "    <tr style=\"text-align: right;\">\n",
       "      <th></th>\n",
       "      <th>model</th>\n",
       "      <th>cnt</th>\n",
       "    </tr>\n",
       "  </thead>\n",
       "  <tbody>\n",
       "    <tr>\n",
       "      <th>0</th>\n",
       "      <td>45801</td>\n",
       "      <td>26728</td>\n",
       "    </tr>\n",
       "    <tr>\n",
       "      <th>1</th>\n",
       "      <td>45802</td>\n",
       "      <td>15271</td>\n",
       "    </tr>\n",
       "    <tr>\n",
       "      <th>2</th>\n",
       "      <td>45803</td>\n",
       "      <td>7645</td>\n",
       "    </tr>\n",
       "  </tbody>\n",
       "</table>\n",
       "</div>"
      ],
      "text/plain": [
       "   model    cnt\n",
       "0  45801  26728\n",
       "1  45802  15271\n",
       "2  45803   7645"
      ]
     },
     "execution_count": 410,
     "metadata": {},
     "output_type": "execute_result"
    }
   ],
   "source": [
    "df.query(f'date < \"2018\" and quarter == 3')\\\n",
    "    .groupby('model', as_index=False).agg({'cnt':'sum'})[:-1]"
   ]
  },
  {
   "cell_type": "code",
   "execution_count": 420,
   "id": "a59948ed",
   "metadata": {},
   "outputs": [
    {
     "data": {
      "text/plain": [
       "<AxesSubplot:xlabel='model', ylabel='cnt'>"
      ]
     },
     "execution_count": 420,
     "metadata": {},
     "output_type": "execute_result"
    },
    {
     "data": {
      "image/png": "[encoded data removed]",
      "text/plain": [
       "<Figure size 432x288 with 1 Axes>"
      ]
     },
     "metadata": {
      "needs_background": "light"
     },
     "output_type": "display_data"
    }
   ],
   "source": [
    "sns.lineplot(x = df.query(f'date > \"2018\" and quarter == 3')\\\n",
    "    .groupby('model', as_index=False).agg({'cnt':'sum'})[:-1].model, y = df.query(f'date > \"2018\" and quarter == 3')\\\n",
    "    .groupby('model', as_index=False).agg({'cnt':'sum'})[:-1].cnt)\n",
    "sns.lineplot(x = df.query(f'date > \"2018\" and quarter == 3')\\\n",
    "    .groupby('model', as_index=False).agg({'cnt':'sum'})[:-1].model, y = df.query(f'date < \"2018\" and quarter == 3')\\\n",
    "    .groupby('model', as_index=False).agg({'cnt':'sum'})[:-1].cnt)"
   ]
  },
  {
   "cell_type": "markdown",
   "id": "30129aa5",
   "metadata": {},
   "source": [
    "В 3ем же квартале, разница значительна"
   ]
  },
  {
   "cell_type": "markdown",
   "id": "5f463f07",
   "metadata": {},
   "source": [
    "На всякий случай еще посмотрю продажи прошлого квартала"
   ]
  },
  {
   "cell_type": "code",
   "execution_count": 519,
   "id": "873d661b",
   "metadata": {},
   "outputs": [
    {
     "data": {
      "image/png": "[encoded data removed]",
      "text/plain": [
       "<Figure size 864x720 with 1 Axes>"
      ]
     },
     "metadata": {},
     "output_type": "display_data"
    }
   ],
   "source": [
    "f, ax = plt.subplots(1, 1)\n",
    "plt.xticks = 'Модель'\n",
    "y_col = 'Количество продаж'\n",
    "ax.xlabel = 'Модель'\n",
    "ax.plot_date( df.query(f'date > \"2018\" and quarter == 2')\\\n",
    "    .groupby('model', as_index=False).agg({'cnt':'sum'})[:-1].model, df.query(f'date > \"2018\" and quarter == 2')\\\n",
    "    .groupby('model', as_index=False).agg({'cnt':'sum'})[:-1].cnt, label = '2 Квартал 2018',linestyle=\"-\")\n",
    "ax.plot_date( df.query(f'date < \"2018\" and quarter == 2')\\\n",
    "    .groupby('model', as_index=False).agg({'cnt':'sum'})[:-1].model, df.query(f'date < \"2018\" and quarter == 2')\\\n",
    "    .groupby('model', as_index=False).agg({'cnt':'sum'})[:-1].cnt, label = '2 Квартал 2017',linestyle=\"-\")\n",
    "ax.plot_date( df.query(f'date > \"2018\" and quarter == 3')\\\n",
    "    .groupby('model', as_index=False).agg({'cnt':'sum'})[:-1].model, df.query(f'date > \"2018\" and quarter == 3')\\\n",
    "    .groupby('model', as_index=False).agg({'cnt':'sum'})[:-1].cnt, label = '3 Квартал 2018',linestyle=\"-\")\n",
    "ax.plot_date( df.query(f'date < \"2018\" and quarter == 3')\\\n",
    "    .groupby('model', as_index=False).agg({'cnt':'sum'})[:-1].model, df.query(f'date < \"2018\" and quarter == 3')\\\n",
    "    .groupby('model', as_index=False).agg({'cnt':'sum'})[:-1].cnt, label = '3 Квартал 2017', linestyle=\"-\")\n",
    "plt.legend()\n",
    "\n",
    "sns.set(rc={'figure.figsize':(12,10)})\n"
   ]
  },
  {
   "cell_type": "markdown",
   "id": "740e61ca",
   "metadata": {},
   "source": [
    "#### Думаю, что стоит переходить к расчетам доходности"
   ]
  },
  {
   "cell_type": "markdown",
   "id": "311ccca8",
   "metadata": {},
   "source": [
    "Расчитаю сколько акционных моделей мы продали за искомый период"
   ]
  },
  {
   "cell_type": "code",
   "execution_count": 452,
   "id": "848d7dca",
   "metadata": {},
   "outputs": [],
   "source": [
    "expenses = df.query(f'date > \"2018\" and quarter == 3')\\\n",
    "    .groupby(['action','model'], as_index=False).agg({'cnt':'sum'}).query('action == \"Вернем баллы на счет\"')[['model','cnt']]"
   ]
  },
  {
   "cell_type": "code",
   "execution_count": 459,
   "id": "12ea4a05",
   "metadata": {},
   "outputs": [
    {
     "data": {
      "text/html": [
       "<div>\n",
       "<style scoped>\n",
       "    .dataframe tbody tr th:only-of-type {\n",
       "        vertical-align: middle;\n",
       "    }\n",
       "\n",
       "    .dataframe tbody tr th {\n",
       "        vertical-align: top;\n",
       "    }\n",
       "\n",
       "    .dataframe thead th {\n",
       "        text-align: right;\n",
       "    }\n",
       "</style>\n",
       "<table border=\"1\" class=\"dataframe\">\n",
       "  <thead>\n",
       "    <tr style=\"text-align: right;\">\n",
       "      <th></th>\n",
       "      <th>model</th>\n",
       "      <th>cnt</th>\n",
       "    </tr>\n",
       "  </thead>\n",
       "  <tbody>\n",
       "    <tr>\n",
       "      <th>4</th>\n",
       "      <td>45801</td>\n",
       "      <td>30674</td>\n",
       "    </tr>\n",
       "    <tr>\n",
       "      <th>5</th>\n",
       "      <td>45802</td>\n",
       "      <td>16867</td>\n",
       "    </tr>\n",
       "    <tr>\n",
       "      <th>6</th>\n",
       "      <td>45803</td>\n",
       "      <td>7762</td>\n",
       "    </tr>\n",
       "  </tbody>\n",
       "</table>\n",
       "</div>"
      ],
      "text/plain": [
       "   model    cnt\n",
       "4  45801  30674\n",
       "5  45802  16867\n",
       "6  45803   7762"
      ]
     },
     "execution_count": 459,
     "metadata": {},
     "output_type": "execute_result"
    }
   ],
   "source": [
    "expenses"
   ]
  },
  {
   "cell_type": "code",
   "execution_count": 470,
   "id": "ad05f01e",
   "metadata": {},
   "outputs": [],
   "source": [
    "expenses_sum = expenses.iloc[0][1] * 75 + expenses.iloc[1][1] * 150 + expenses.iloc[2][1] * 250"
   ]
  },
  {
   "cell_type": "code",
   "execution_count": 472,
   "id": "6ac5364c",
   "metadata": {},
   "outputs": [
    {
     "data": {
      "text/plain": [
       "6771100"
      ]
     },
     "execution_count": 472,
     "metadata": {},
     "output_type": "execute_result"
    }
   ],
   "source": [
    "expenses_sum"
   ]
  },
  {
   "cell_type": "markdown",
   "id": "2dc21f34",
   "metadata": {},
   "source": [
    "Суммирую с затратами на рекламу"
   ]
  },
  {
   "cell_type": "code",
   "execution_count": 474,
   "id": "039b11cd",
   "metadata": {
    "scrolled": true
   },
   "outputs": [
    {
     "data": {
      "text/plain": [
       "9271100"
      ]
     },
     "execution_count": 474,
     "metadata": {},
     "output_type": "execute_result"
    }
   ],
   "source": [
    "expenses_sum + 2500000"
   ]
  },
  {
   "cell_type": "markdown",
   "id": "5f488067",
   "metadata": {},
   "source": [
    "Расходы компании на проведение промоакции 9 271 100 ₽"
   ]
  },
  {
   "cell_type": "markdown",
   "id": "99f362f1",
   "metadata": {},
   "source": [
    "Посчитаю доход с акционных товаров и неакционных"
   ]
  },
  {
   "cell_type": "code",
   "execution_count": 582,
   "id": "4228dea0",
   "metadata": {},
   "outputs": [
    {
     "data": {
      "text/html": [
       "<div>\n",
       "<style scoped>\n",
       "    .dataframe tbody tr th:only-of-type {\n",
       "        vertical-align: middle;\n",
       "    }\n",
       "\n",
       "    .dataframe tbody tr th {\n",
       "        vertical-align: top;\n",
       "    }\n",
       "\n",
       "    .dataframe thead th {\n",
       "        text-align: right;\n",
       "    }\n",
       "</style>\n",
       "<table border=\"1\" class=\"dataframe\">\n",
       "  <thead>\n",
       "    <tr style=\"text-align: right;\">\n",
       "      <th></th>\n",
       "      <th>action</th>\n",
       "      <th>price</th>\n",
       "      <th>selfprice</th>\n",
       "    </tr>\n",
       "  </thead>\n",
       "  <tbody>\n",
       "    <tr>\n",
       "      <th>0</th>\n",
       "      <td>Без акции</td>\n",
       "      <td>80888375</td>\n",
       "      <td>62488544.9</td>\n",
       "    </tr>\n",
       "    <tr>\n",
       "      <th>1</th>\n",
       "      <td>Вернем баллы на счет</td>\n",
       "      <td>92579797</td>\n",
       "      <td>72226465.0</td>\n",
       "    </tr>\n",
       "  </tbody>\n",
       "</table>\n",
       "</div>"
      ],
      "text/plain": [
       "                 action     price   selfprice\n",
       "0             Без акции  80888375  62488544.9\n",
       "1  Вернем баллы на счет  92579797  72226465.0"
      ]
     },
     "execution_count": 582,
     "metadata": {},
     "output_type": "execute_result"
    }
   ],
   "source": [
    "df.query(f'date > \"2018\" and quarter == 3')\\\n",
    "    .groupby(['action'], as_index=False).agg({'price':'sum', 'selfprice':'sum'})"
   ]
  },
  {
   "cell_type": "markdown",
   "id": "a633fcb9",
   "metadata": {},
   "source": [
    "Решил посмотреть так же сколько была выручка в 2017 году в 3ем квартале, чтобы понимать насколько повлияла наша акция  "
   ]
  },
  {
   "cell_type": "markdown",
   "id": "bcc1b002",
   "metadata": {},
   "source": [
    "В 2018"
   ]
  },
  {
   "cell_type": "code",
   "execution_count": 585,
   "id": "8fa9e68a",
   "metadata": {},
   "outputs": [
    {
     "data": {
      "text/plain": [
       "92579797"
      ]
     },
     "execution_count": 585,
     "metadata": {},
     "output_type": "execute_result"
    }
   ],
   "source": [
    "df.query(f'date > \"2018\" and quarter == 3')\\\n",
    "    .groupby(['action'], as_index=False).agg({'price':'sum', 'selfprice':'sum'}).iloc[1].price"
   ]
  },
  {
   "cell_type": "markdown",
   "id": "4ea08444",
   "metadata": {},
   "source": [
    "Сколько в 3ем квартале 2017"
   ]
  },
  {
   "cell_type": "code",
   "execution_count": 497,
   "id": "baf35880",
   "metadata": {},
   "outputs": [
    {
     "data": {
      "text/plain": [
       "0    107258968\n",
       "Name: price, dtype: int64"
      ]
     },
     "execution_count": 497,
     "metadata": {},
     "output_type": "execute_result"
    }
   ],
   "source": [
    "df.query(f'date < \"2018\" and quarter == 3')\\\n",
    "    .groupby(['action'], as_index=False).agg({'price':'sum', 'selfprice':'sum'}).price"
   ]
  },
  {
   "cell_type": "code",
   "execution_count": 499,
   "id": "ccba3370",
   "metadata": {
    "scrolled": true
   },
   "outputs": [
    {
     "data": {
      "text/plain": [
       "0    1.158557\n",
       "Name: price, dtype: float64"
      ]
     },
     "execution_count": 499,
     "metadata": {},
     "output_type": "execute_result"
    }
   ],
   "source": [
    "df.query(f'date < \"2018\" and quarter == 3')\\\n",
    "    .groupby(['action'], as_index=False).agg({'price':'sum', 'selfprice':'sum'}).price / df.query(f'date > \"2018\" and quarter == 3')\\\n",
    "    .groupby(['action'], as_index=False).agg({'price':'sum', 'selfprice':'sum'}).iloc[1].price"
   ]
  },
  {
   "cell_type": "markdown",
   "id": "0f9f6994",
   "metadata": {},
   "source": [
    "Разница в 15% однако числа примерно одного порядка, так что можно сказать, что большая часть дохода с акции - это \"заслуга\" акции"
   ]
  },
  {
   "cell_type": "code",
   "execution_count": 521,
   "id": "01d63f1f",
   "metadata": {},
   "outputs": [
    {
     "data": {
      "text/html": [
       "<div>\n",
       "<style scoped>\n",
       "    .dataframe tbody tr th:only-of-type {\n",
       "        vertical-align: middle;\n",
       "    }\n",
       "\n",
       "    .dataframe tbody tr th {\n",
       "        vertical-align: top;\n",
       "    }\n",
       "\n",
       "    .dataframe thead th {\n",
       "        text-align: right;\n",
       "    }\n",
       "</style>\n",
       "<table border=\"1\" class=\"dataframe\">\n",
       "  <thead>\n",
       "    <tr style=\"text-align: right;\">\n",
       "      <th></th>\n",
       "      <th>price</th>\n",
       "    </tr>\n",
       "    <tr>\n",
       "      <th>quarter</th>\n",
       "      <th></th>\n",
       "    </tr>\n",
       "  </thead>\n",
       "  <tbody>\n",
       "    <tr>\n",
       "      <th>1</th>\n",
       "      <td>1.066302</td>\n",
       "    </tr>\n",
       "    <tr>\n",
       "      <th>2</th>\n",
       "      <td>1.070561</td>\n",
       "    </tr>\n",
       "    <tr>\n",
       "      <th>3</th>\n",
       "      <td>1.617284</td>\n",
       "    </tr>\n",
       "    <tr>\n",
       "      <th>4</th>\n",
       "      <td>1.103111</td>\n",
       "    </tr>\n",
       "  </tbody>\n",
       "</table>\n",
       "</div>"
      ],
      "text/plain": [
       "            price\n",
       "quarter          \n",
       "1        1.066302\n",
       "2        1.070561\n",
       "3        1.617284\n",
       "4        1.103111"
      ]
     },
     "execution_count": 521,
     "metadata": {},
     "output_type": "execute_result"
    }
   ],
   "source": [
    "df.query('date > \"2018\"').groupby('quarter').agg({'price':'sum'}) / df.query('date < \"2018\"').groupby('quarter').agg({'price':'sum'})"
   ]
  },
  {
   "cell_type": "markdown",
   "id": "40885b23",
   "metadata": {},
   "source": [
    "Разница между годами, не считая наш целевой квартал, колеблется между 6-10%, так что считаю справедливым из общей выручки от акции отнять 8%"
   ]
  },
  {
   "cell_type": "code",
   "execution_count": 527,
   "id": "dfde37e9",
   "metadata": {},
   "outputs": [
    {
     "data": {
      "text/plain": [
       "18725065.44"
      ]
     },
     "execution_count": 527,
     "metadata": {},
     "output_type": "execute_result"
    }
   ],
   "source": [
    "(df.query(f'date > \"2018\" and quarter == 3')\\\n",
    "    .groupby(['action'], as_index=False).agg({'price':'sum', 'selfprice':'sum'}).iloc[1].price - df.query(f'date > \"2018\" and quarter == 3')\\\n",
    "    .groupby(['action'], as_index=False).agg({'price':'sum', 'selfprice':'sum'}).iloc[1].selfprice) * 0.92"
   ]
  },
  {
   "cell_type": "markdown",
   "id": "15b33727",
   "metadata": {},
   "source": [
    "Итого получаем почти 19 млн ₽ выручки от акции"
   ]
  },
  {
   "cell_type": "markdown",
   "id": "9e8756f9",
   "metadata": {},
   "source": [
    "Напомню, что затраты были такими: 9 271 100 ₽"
   ]
  },
  {
   "cell_type": "code",
   "execution_count": 528,
   "id": "69c82498",
   "metadata": {},
   "outputs": [
    {
     "data": {
      "text/plain": [
       "9453965"
      ]
     },
     "execution_count": 528,
     "metadata": {},
     "output_type": "execute_result"
    }
   ],
   "source": [
    "18725065 - 9271100"
   ]
  },
  {
   "cell_type": "markdown",
   "id": "6853ba6c",
   "metadata": {},
   "source": [
    "По итогу получаем, что на промоакции мы заработали 9453965 ₽ "
   ]
  },
  {
   "cell_type": "markdown",
   "id": "5fdc6cad",
   "metadata": {},
   "source": [
    "## Итоги"
   ]
  },
  {
   "cell_type": "markdown",
   "id": "26b8cc11",
   "metadata": {},
   "source": [
    "#### Подведем итоги и ответим на поставленные вопросы"
   ]
  },
  {
   "cell_type": "markdown",
   "id": "807437bf",
   "metadata": {},
   "source": [
    "* Проанализируйте эффект от введения акционного предложения: оцените получаемый прирост, а также разбейте его на инкремент от механики и продвижения. Исследуйте влияние акции на модели 4580Х."
   ]
  },
  {
   "cell_type": "markdown",
   "id": "8004aaa8",
   "metadata": {},
   "source": [
    "Мы получили прирост в 114% от второго квартала 2018 года, что больше прошлогоднего прироста на тот же период на 61%"
   ]
  },
  {
   "cell_type": "markdown",
   "id": "49f461e2",
   "metadata": {},
   "source": [
    "Выяснили, что сезонный прирост прошлого года был 41%"
   ]
  },
  {
   "cell_type": "code",
   "execution_count": 557,
   "id": "d0d8e6a8",
   "metadata": {},
   "outputs": [
    {
     "data": {
      "text/plain": [
       "<matplotlib.legend.Legend at 0x7fc6743da580>"
      ]
     },
     "execution_count": 557,
     "metadata": {},
     "output_type": "execute_result"
    },
    {
     "data": {
      "image/png": "[encoded data removed]",
      "text/plain": [
       "<Figure size 864x720 with 1 Axes>"
      ]
     },
     "metadata": {},
     "output_type": "display_data"
    }
   ],
   "source": [
    "f, ax = plt.subplots(1, 1)\n",
    "ax.plot(df.query('date < \"2018\"').groupby('quarter').agg({'price':'sum'}), label = '2017')\n",
    "ax.plot(df.query('date > \"2018\"').groupby('quarter').agg({'price':'sum'}), label = '2018')\n",
    "plt.legend()"
   ]
  },
  {
   "cell_type": "markdown",
   "id": "937de5e2",
   "metadata": {},
   "source": [
    "Также мы выяснили, что в среднем прирост оборота от прошлого года вырос примерно на 6-10%"
   ]
  },
  {
   "cell_type": "markdown",
   "id": "be376b25",
   "metadata": {},
   "source": [
    "## О моделях 4580Х"
   ]
  },
  {
   "cell_type": "markdown",
   "id": "f160c179",
   "metadata": {},
   "source": [
    "Удалось выяснить, что акция крайне положительно повлияла на продажи моделей 4580X"
   ]
  },
  {
   "cell_type": "markdown",
   "id": "1d71b72d",
   "metadata": {},
   "source": [
    "Так модель:"
   ]
  },
  {
   "cell_type": "markdown",
   "id": "65ddd5f4",
   "metadata": {},
   "source": [
    "- 45801 принесла на 89% больше выручки, чем в аналогичный период прошлого года.\n",
    "- 45802 принесла на 82% больше выручки, чем в аналогичный период прошлого года.\n",
    "- 45803 принесла на 67% больше выручки, чем в аналогичный период прошлого года.\n",
    "- А вот модель 59234 упала в выручке относительно прошлогоднего периода."
   ]
  },
  {
   "cell_type": "code",
   "execution_count": 643,
   "id": "e92ff14e",
   "metadata": {},
   "outputs": [
    {
     "data": {
      "text/html": [
       "<div>\n",
       "<style scoped>\n",
       "    .dataframe tbody tr th:only-of-type {\n",
       "        vertical-align: middle;\n",
       "    }\n",
       "\n",
       "    .dataframe tbody tr th {\n",
       "        vertical-align: top;\n",
       "    }\n",
       "\n",
       "    .dataframe thead th {\n",
       "        text-align: right;\n",
       "    }\n",
       "</style>\n",
       "<table border=\"1\" class=\"dataframe\">\n",
       "  <thead>\n",
       "    <tr style=\"text-align: right;\">\n",
       "      <th></th>\n",
       "      <th>price</th>\n",
       "    </tr>\n",
       "    <tr>\n",
       "      <th>model</th>\n",
       "      <th></th>\n",
       "    </tr>\n",
       "  </thead>\n",
       "  <tbody>\n",
       "    <tr>\n",
       "      <th>45801</th>\n",
       "      <td>1.898384</td>\n",
       "    </tr>\n",
       "    <tr>\n",
       "      <th>45802</th>\n",
       "      <td>1.826730</td>\n",
       "    </tr>\n",
       "    <tr>\n",
       "      <th>45803</th>\n",
       "      <td>1.677698</td>\n",
       "    </tr>\n",
       "    <tr>\n",
       "      <th>59234</th>\n",
       "      <td>0.972653</td>\n",
       "    </tr>\n",
       "  </tbody>\n",
       "</table>\n",
       "</div>"
      ],
      "text/plain": [
       "          price\n",
       "model          \n",
       "45801  1.898384\n",
       "45802  1.826730\n",
       "45803  1.677698\n",
       "59234  0.972653"
      ]
     },
     "execution_count": 643,
     "metadata": {},
     "output_type": "execute_result"
    }
   ],
   "source": [
    "df.query(f'date > \"2018\" and quarter == \"3\"').groupby('model').agg({'price':'sum'})/df.query(f'date < \"2018\" and quarter == \"3\"').groupby('model').agg({'price':'sum'})"
   ]
  },
  {
   "cell_type": "code",
   "execution_count": 662,
   "id": "1e216ead",
   "metadata": {},
   "outputs": [],
   "source": [
    "persent_grow = df.query(f'date > \"2018\" and quarter == \"3\"').groupby('model').agg({'price':'sum'})/df.query(f'date < \"2018\" and quarter == \"3\"').groupby('model').agg({'price':'sum'})"
   ]
  },
  {
   "cell_type": "code",
   "execution_count": 666,
   "id": "b6a025b4",
   "metadata": {
    "scrolled": true
   },
   "outputs": [
    {
     "data": {
      "text/plain": [
       "<AxesSubplot:ylabel='price'>"
      ]
     },
     "execution_count": 666,
     "metadata": {},
     "output_type": "execute_result"
    },
    {
     "data": {
      "image/png": "[encoded data removed]",
      "text/plain": [
       "<Figure size 864x720 with 1 Axes>"
      ]
     },
     "metadata": {},
     "output_type": "display_data"
    }
   ],
   "source": [
    "sns.barplot(x = ['45801','45802','45803','59234'], y = persent_grow.price-1)\n",
    "\n"
   ]
  },
  {
   "cell_type": "markdown",
   "id": "def36184",
   "metadata": {},
   "source": [
    "В то время, как во 2ом квартале 2018 прирост был в среднем на 7%"
   ]
  },
  {
   "cell_type": "code",
   "execution_count": 667,
   "id": "e4b32d04",
   "metadata": {},
   "outputs": [
    {
     "data": {
      "text/html": [
       "<div>\n",
       "<style scoped>\n",
       "    .dataframe tbody tr th:only-of-type {\n",
       "        vertical-align: middle;\n",
       "    }\n",
       "\n",
       "    .dataframe tbody tr th {\n",
       "        vertical-align: top;\n",
       "    }\n",
       "\n",
       "    .dataframe thead th {\n",
       "        text-align: right;\n",
       "    }\n",
       "</style>\n",
       "<table border=\"1\" class=\"dataframe\">\n",
       "  <thead>\n",
       "    <tr style=\"text-align: right;\">\n",
       "      <th></th>\n",
       "      <th>price</th>\n",
       "    </tr>\n",
       "    <tr>\n",
       "      <th>model</th>\n",
       "      <th></th>\n",
       "    </tr>\n",
       "  </thead>\n",
       "  <tbody>\n",
       "    <tr>\n",
       "      <th>45801</th>\n",
       "      <td>1.070341</td>\n",
       "    </tr>\n",
       "    <tr>\n",
       "      <th>45802</th>\n",
       "      <td>1.069684</td>\n",
       "    </tr>\n",
       "    <tr>\n",
       "      <th>45803</th>\n",
       "      <td>1.071680</td>\n",
       "    </tr>\n",
       "    <tr>\n",
       "      <th>59234</th>\n",
       "      <td>1.070038</td>\n",
       "    </tr>\n",
       "  </tbody>\n",
       "</table>\n",
       "</div>"
      ],
      "text/plain": [
       "          price\n",
       "model          \n",
       "45801  1.070341\n",
       "45802  1.069684\n",
       "45803  1.071680\n",
       "59234  1.070038"
      ]
     },
     "execution_count": 667,
     "metadata": {},
     "output_type": "execute_result"
    }
   ],
   "source": [
    "df.query(f'date > \"2018\" and quarter == \"2\"').groupby('model').agg({'price':'sum'})\\\n",
    "    /df.query(f'date < \"2018\" and quarter == \"2\"').groupby('model').agg({'price':'sum'})"
   ]
  },
  {
   "cell_type": "markdown",
   "id": "ccdfc38b",
   "metadata": {},
   "source": [
    "Так же можно заметить зависимость условий акции на ее эффективность. Имеется ввиду, что видно, что модель 45801 продавалась больше, чем 45802, а она в свою очередь лучше, чем 45803, но это связанно с самим товаром, тк, судя по данным ниже, модель 45801 самая доступная, 45802 более догорая и всегда продавались лучше."
   ]
  },
  {
   "cell_type": "code",
   "execution_count": 685,
   "id": "d23ef045",
   "metadata": {},
   "outputs": [
    {
     "data": {
      "text/html": [
       "<div>\n",
       "<style scoped>\n",
       "    .dataframe tbody tr th:only-of-type {\n",
       "        vertical-align: middle;\n",
       "    }\n",
       "\n",
       "    .dataframe tbody tr th {\n",
       "        vertical-align: top;\n",
       "    }\n",
       "\n",
       "    .dataframe thead th {\n",
       "        text-align: right;\n",
       "    }\n",
       "</style>\n",
       "<table border=\"1\" class=\"dataframe\">\n",
       "  <thead>\n",
       "    <tr style=\"text-align: right;\">\n",
       "      <th></th>\n",
       "      <th>price</th>\n",
       "      <th>cnt</th>\n",
       "    </tr>\n",
       "    <tr>\n",
       "      <th>model</th>\n",
       "      <th></th>\n",
       "      <th></th>\n",
       "    </tr>\n",
       "  </thead>\n",
       "  <tbody>\n",
       "    <tr>\n",
       "      <th>45801</th>\n",
       "      <td>136826575</td>\n",
       "      <td>228425</td>\n",
       "    </tr>\n",
       "    <tr>\n",
       "      <th>45802</th>\n",
       "      <td>271663075</td>\n",
       "      <td>129425</td>\n",
       "    </tr>\n",
       "    <tr>\n",
       "      <th>45803</th>\n",
       "      <td>318046378</td>\n",
       "      <td>63622</td>\n",
       "    </tr>\n",
       "    <tr>\n",
       "      <th>59234</th>\n",
       "      <td>157294375</td>\n",
       "      <td>143125</td>\n",
       "    </tr>\n",
       "  </tbody>\n",
       "</table>\n",
       "</div>"
      ],
      "text/plain": [
       "           price     cnt\n",
       "model                   \n",
       "45801  136826575  228425\n",
       "45802  271663075  129425\n",
       "45803  318046378   63622\n",
       "59234  157294375  143125"
      ]
     },
     "execution_count": 685,
     "metadata": {},
     "output_type": "execute_result"
    }
   ],
   "source": [
    "df.groupby(['model',]).agg({'price':'sum', 'cnt':'sum'})"
   ]
  },
  {
   "cell_type": "markdown",
   "id": "70a9da27",
   "metadata": {},
   "source": [
    "### Доходность акции составила 9 453 965  ₽ "
   ]
  },
  {
   "cell_type": "markdown",
   "id": "6d986bff",
   "metadata": {},
   "source": [
    "### Из неохваченных тем, так и напрашивался вопрос сезонности"
   ]
  },
  {
   "cell_type": "markdown",
   "id": "b74d8a5f",
   "metadata": {},
   "source": [
    "Из данных видно, что у нас есть просадка по выручке во втором квартале, связанная с сезонностью, которая четко прослеживатеся на графике"
   ]
  },
  {
   "cell_type": "code",
   "execution_count": 678,
   "id": "377da10d",
   "metadata": {
    "scrolled": false
   },
   "outputs": [
    {
     "data": {
      "text/plain": [
       "<matplotlib.legend.Legend at 0x7fc6612137f0>"
      ]
     },
     "execution_count": 678,
     "metadata": {},
     "output_type": "execute_result"
    },
    {
     "data": {
      "image/png": "[encoded data removed]",
      "text/plain": [
       "<Figure size 864x720 with 1 Axes>"
      ]
     },
     "metadata": {},
     "output_type": "display_data"
    }
   ],
   "source": [
    "f, ax = plt.subplots(1, 1)\n",
    "ax.plot(df.query('date < \"2018\"').groupby('quarter').agg({'price':'sum'}), label = '2017')\n",
    "ax.plot(df.query('date > \"2018\"').groupby('quarter').agg({'price':'sum'}), label = '2018')\n",
    "plt.legend()"
   ]
  },
  {
   "cell_type": "code",
   "execution_count": 683,
   "id": "ddf3ed3b",
   "metadata": {},
   "outputs": [
    {
     "data": {
      "text/plain": [
       "0.8761285696820585"
      ]
     },
     "execution_count": 683,
     "metadata": {},
     "output_type": "execute_result"
    }
   ],
   "source": [
    "df.query('date < \"2018\" and quarter == \"2\"').price.sum()/ df.query('date < \"2018\" and quarter == \"1\"').price.sum()"
   ]
  },
  {
   "cell_type": "code",
   "execution_count": 684,
   "id": "64ec8688",
   "metadata": {},
   "outputs": [
    {
     "data": {
      "text/plain": [
       "0.8796281060767418"
      ]
     },
     "execution_count": 684,
     "metadata": {},
     "output_type": "execute_result"
    }
   ],
   "source": [
    "df.query('date > \"2018\" and quarter == \"2\"').price.sum()/ df.query('date > \"2018\" and quarter == \"1\"').price.sum()"
   ]
  },
  {
   "cell_type": "markdown",
   "id": "6a2e19fd",
   "metadata": {},
   "source": [
    "В обоих годах на 13%"
   ]
  },
  {
   "cell_type": "code",
   "execution_count": null,
   "id": "e2fd46da",
   "metadata": {},
   "outputs": [],
   "source": []
  }
 ],
 "metadata": {
  "kernelspec": {
   "display_name": "Python 3 (ipykernel)",
   "language": "python",
   "name": "python3"
  },
  "language_info": {
   "codemirror_mode": {
    "name": "ipython",
    "version": 3
   },
   "file_extension": ".py",
   "mimetype": "text/x-python",
   "name": "python",
   "nbconvert_exporter": "python",
   "pygments_lexer": "ipython3",
   "version": "3.9.7"
  }
 },
 "nbformat": 4,
 "nbformat_minor": 5
}
